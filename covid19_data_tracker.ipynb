
{
 "cells": [
  {
   "cell_type": "markdown",
   "metadata": {},
   "source": [
    "# 🦠 COVID-19 Global Data Tracker\n",
    "This notebook analyzes global COVID-19 trends using data from Our World in Data."
   ]
  },
 import pandas as pd
import matplotlib.pyplot as plt
import seaborn as sns
import matplotlib.ticker as ticker

# Plotting style
sns.set_style("whitegrid")
plt.rcParams['figure.figsize'] = (12, 6)

# Load dataset
df = pd.read_csv('owid-covid-data.csv')
df['date'] = pd.to_datetime(df['date'])

# Filter countries
countries = ['Kenya', 'United States', 'India']
df = df[df['location'].isin(countries)]

# Sort values by date within each country
df.sort_values(['location', 'date'], inplace=True)

# Forward fill only relevant columns
columns_to_fill = ['total_cases', 'people_vaccinated_per_hundred']
df[columns_to_fill] = df[columns_to_fill].fillna(method='ffill')

# --- Plot 1: Total COVID-19 Cases Over Time ---
plt.figure()
for country in countries:
    country_data = df[df['location'] == country]
    plt.plot(country_data['date'], country_data['total_cases'], label=country)

plt.title('Total COVID-19 Cases Over Time')
plt.xlabel('Date')
plt.ylabel('Total Cases')
plt.legend()
plt.grid(True)
plt.gca().yaxis.set_major_formatter(ticker.FuncFormatter(lambda x, _: f'{int(x):,}'))
plt.tight_layout()
plt.show()

# --- Plot 2: Vaccination Progress Over Time ---
plt.figure()
for country in countries:
    country_data = df[df['location'] == country]
    plt.plot(country_data['date'], country_data['people_vaccinated_per_hundred'], label=country)

plt.title('People Vaccinated per Hundred Over Time')
plt.xlabel('Date')
plt.ylabel('% Vaccinated')
plt.legend()
plt.grid(True)
plt.tight_layout()
plt.show()
